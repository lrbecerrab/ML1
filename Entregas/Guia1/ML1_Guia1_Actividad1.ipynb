{
  "cells": [
    {
      "cell_type": "markdown",
      "metadata": {
        "id": "pDIILnO22THe"
      },
      "source": [
        "\n",
        "\n",
        "---\n",
        "# **Proyecto 1 – Relación Minutos Ingreso**\n",
        "---\n",
        "# **Universidad EAN**\n",
        "##**Machine Learning 1**\n",
        "##**Guía 1 Actividad 1**\n",
        "Presentado por\n",
        "\n",
        "\n",
        "María Camila Tarazona Nieto\n",
        "\n",
        "Leyla Rocío Becerra Barajas"
      ]
    },
    {
      "cell_type": "markdown",
      "metadata": {
        "id": "1Gl4HcLhGXYR"
      },
      "source": [
        "El problema planteado implica analizar si existe alguna relación entre dos variables clave en el negocio de una empresa de telecomunicaciones: el total de minutos usados por los clientes y los ingresos totales generados por esos clientes. Esta relación puede ser fundamental para comprender el comportamiento de los clientes y desarrollar estrategias efectivas de mejora de productos, publicidad y toma de decisiones.\n",
        "\n",
        "Para abordar este problema, se dispone de un conjunto de datos llamado Credito_dias.csv, que contiene varias variables relevantes, incluyendo totrev (ingresos del cliente) y totmou (total de minutos usados por el cliente), entre otras.\n",
        "\n",
        "Dado que el análisis manual de una gran cantidad de clientes no es práctico, se propone utilizar programación y análisis de datos para extraer información valiosa de manera rápida y precisa. Se puede emplear técnicas de visualización y modelado de datos para explorar la relación entre totrev y totmou, lo que permitirá identificar patrones y tendencias que pueden no ser evidentes a simple vista.\n",
        "\n",
        "Al comprender la relación entre el uso de minutos y los ingresos generados, la empresa podrá tomar decisiones informadas sobre cómo optimizar sus servicios y estrategias comerciales para maximizar los ingresos y mejorar la satisfacción del cliente."
      ]
    },
    {
      "cell_type": "markdown",
      "metadata": {
        "id": "C9iKFO857HhI"
      },
      "source": [
        "---\n",
        "# **Librerías**\n",
        "---\n",
        "Instalación de paquetes, importar las librerías necesarias y cargar la base de datos"
      ]
    },
    {
      "cell_type": "code",
      "execution_count": 10,
      "metadata": {
        "id": "7JdhhX7f8HGP",
        "vscode": {
          "languageId": "r"
        }
      },
      "outputs": [],
      "source": [
        "# Importar librerías\n",
        "import pandas as pd\n",
        "import matplotlib.pyplot as plt\n",
        "import numpy as np\n",
        "from scipy.stats import pearsonr\n",
        "import seaborn as sns"
      ]
    },
    {
      "cell_type": "markdown",
      "metadata": {
        "id": "AVTw5Yjk_inN"
      },
      "source": [
        "---\n",
        "# **Versiones**\n",
        "---\n",
        "Este documento fue realizado con las siguientes versiones:\n",
        "\n",
        "- Python 3.10.12\n",
        "- Pandas 1.5.3\n",
        "- Matplotlib 3.8"
      ]
    },
    {
      "cell_type": "code",
      "execution_count": 11,
      "metadata": {
        "colab": {
          "base_uri": "https://localhost:8080/"
        },
        "id": "6uzNRrBd_Vg1",
        "outputId": "851cec69-a077-4742-8b66-d5c3d420bc3e",
        "vscode": {
          "languageId": "r"
        }
      },
      "outputs": [
        {
          "name": "stdout",
          "output_type": "stream",
          "text": [
            "Python 3.10.12\n",
            "NumPy 1.25.2\n",
            "Pandas 2.0.3\n"
          ]
        }
      ],
      "source": [
        "#Versiones actuales\n",
        "!python --version\n",
        "print('NumPy', np.__version__)\n",
        "print('Pandas', pd.__version__)"
      ]
    },
    {
      "cell_type": "markdown",
      "metadata": {
        "id": "umzKnuGB7hmc"
      },
      "source": [
        "---\n",
        "# **Base de datos**\n",
        "---"
      ]
    },
    {
      "cell_type": "markdown",
      "metadata": {
        "id": "HQdyAHAHLEM6"
      },
      "source": [
        "## **URL Github**\n",
        "\n",
        "Inicialmente se carga la base de datos.  Debido a que la misma se encuentra en un repositorio de Github, se designa una variable para almacenar el URL del repositorio."
      ]
    },
    {
      "cell_type": "markdown",
      "metadata": {
        "id": "YdHFHhJWM40h"
      },
      "source": []
    },
    {
      "cell_type": "code",
      "execution_count": 12,
      "metadata": {
        "id": "gTJtPP-WInUI",
        "vscode": {
          "languageId": "r"
        }
      },
      "outputs": [],
      "source": [
        "url='https://raw.githubusercontent.com/lrbecerrab/ML1/main/Entregas/Guia1/Credito_dias.csv'"
      ]
    },
    {
      "cell_type": "markdown",
      "metadata": {
        "id": "MZi6v2cv-x6_"
      },
      "source": [
        "## **Uso de un dataframe (pandas)**\n",
        "\n",
        "Se crea una estructura de datos \"dataframe\" de la librería [pandas](https://https://pandas.pydata.org/) la cual facilita el análisis de los datos, puesto que  ya cuenta con funciones implementadas para ello."
      ]
    },
    {
      "cell_type": "code",
      "execution_count": 13,
      "metadata": {
        "colab": {
          "base_uri": "https://localhost:8080/",
          "height": 423
        },
        "id": "-NLQ8dy65r2d",
        "outputId": "bce347f0-320e-446f-ea00-216ba47f0548",
        "vscode": {
          "languageId": "r"
        }
      },
      "outputs": [
        {
          "data": {
            "application/vnd.google.colaboratory.intrinsic+json": {
              "summary": "{\n  \"name\": \"df\",\n  \"rows\": 10000,\n  \"fields\": [\n    {\n      \"column\": \"totmou\",\n      \"properties\": {\n        \"dtype\": \"number\",\n        \"std\": 8657.917883024007,\n        \"min\": 0.0,\n        \"max\": 163264.1767,\n        \"num_unique_values\": 7433,\n        \"samples\": [\n          5681.0,\n          2380.0,\n          11980.0\n        ],\n        \"semantic_type\": \"\",\n        \"description\": \"\"\n      }\n    },\n    {\n      \"column\": \"totrev\",\n      \"properties\": {\n        \"dtype\": \"number\",\n        \"std\": 857.144895218992,\n        \"min\": 11.1,\n        \"max\": 13426.6,\n        \"num_unique_values\": 9698,\n        \"samples\": [\n          721.43,\n          630.25,\n          1679.99\n        ],\n        \"semantic_type\": \"\",\n        \"description\": \"\"\n      }\n    },\n    {\n      \"column\": \"creditcd\",\n      \"properties\": {\n        \"dtype\": \"category\",\n        \"num_unique_values\": 2,\n        \"samples\": [\n          \"N\",\n          \"Y\"\n        ],\n        \"semantic_type\": \"\",\n        \"description\": \"\"\n      }\n    },\n    {\n      \"column\": \"eqpdays\",\n      \"properties\": {\n        \"dtype\": \"number\",\n        \"std\": 252,\n        \"min\": -5,\n        \"max\": 1823,\n        \"num_unique_values\": 1163,\n        \"samples\": [\n          948,\n          491\n        ],\n        \"semantic_type\": \"\",\n        \"description\": \"\"\n      }\n    },\n    {\n      \"column\": \"Customer_ID\",\n      \"properties\": {\n        \"dtype\": \"number\",\n        \"std\": 28794,\n        \"min\": 1000014,\n        \"max\": 1099992,\n        \"num_unique_values\": 10000,\n        \"samples\": [\n          1027725,\n          1099873\n        ],\n        \"semantic_type\": \"\",\n        \"description\": \"\"\n      }\n    }\n  ]\n}",
              "type": "dataframe",
              "variable_name": "df"
            },
            "text/html": [
              "\n",
              "  <div id=\"df-556ead20-bc64-46a6-9ebf-9132257e6303\" class=\"colab-df-container\">\n",
              "    <div>\n",
              "<style scoped>\n",
              "    .dataframe tbody tr th:only-of-type {\n",
              "        vertical-align: middle;\n",
              "    }\n",
              "\n",
              "    .dataframe tbody tr th {\n",
              "        vertical-align: top;\n",
              "    }\n",
              "\n",
              "    .dataframe thead th {\n",
              "        text-align: right;\n",
              "    }\n",
              "</style>\n",
              "<table border=\"1\" class=\"dataframe\">\n",
              "  <thead>\n",
              "    <tr style=\"text-align: right;\">\n",
              "      <th></th>\n",
              "      <th>totmou</th>\n",
              "      <th>totrev</th>\n",
              "      <th>creditcd</th>\n",
              "      <th>eqpdays</th>\n",
              "      <th>Customer_ID</th>\n",
              "    </tr>\n",
              "  </thead>\n",
              "  <tbody>\n",
              "    <tr>\n",
              "      <th>0</th>\n",
              "      <td>7269.0</td>\n",
              "      <td>906.58</td>\n",
              "      <td>Y</td>\n",
              "      <td>371</td>\n",
              "      <td>1082423</td>\n",
              "    </tr>\n",
              "    <tr>\n",
              "      <th>1</th>\n",
              "      <td>13552.0</td>\n",
              "      <td>1172.25</td>\n",
              "      <td>N</td>\n",
              "      <td>83</td>\n",
              "      <td>1069232</td>\n",
              "    </tr>\n",
              "    <tr>\n",
              "      <th>2</th>\n",
              "      <td>4152.0</td>\n",
              "      <td>577.39</td>\n",
              "      <td>Y</td>\n",
              "      <td>675</td>\n",
              "      <td>1031705</td>\n",
              "    </tr>\n",
              "    <tr>\n",
              "      <th>3</th>\n",
              "      <td>1863.0</td>\n",
              "      <td>294.26</td>\n",
              "      <td>Y</td>\n",
              "      <td>218</td>\n",
              "      <td>1089806</td>\n",
              "    </tr>\n",
              "    <tr>\n",
              "      <th>4</th>\n",
              "      <td>4155.0</td>\n",
              "      <td>433.16</td>\n",
              "      <td>N</td>\n",
              "      <td>222</td>\n",
              "      <td>1076695</td>\n",
              "    </tr>\n",
              "    <tr>\n",
              "      <th>...</th>\n",
              "      <td>...</td>\n",
              "      <td>...</td>\n",
              "      <td>...</td>\n",
              "      <td>...</td>\n",
              "      <td>...</td>\n",
              "    </tr>\n",
              "    <tr>\n",
              "      <th>9995</th>\n",
              "      <td>2570.0</td>\n",
              "      <td>484.31</td>\n",
              "      <td>Y</td>\n",
              "      <td>611</td>\n",
              "      <td>1027614</td>\n",
              "    </tr>\n",
              "    <tr>\n",
              "      <th>9996</th>\n",
              "      <td>2105.0</td>\n",
              "      <td>583.36</td>\n",
              "      <td>Y</td>\n",
              "      <td>1243</td>\n",
              "      <td>1098422</td>\n",
              "    </tr>\n",
              "    <tr>\n",
              "      <th>9997</th>\n",
              "      <td>3690.0</td>\n",
              "      <td>294.29</td>\n",
              "      <td>Y</td>\n",
              "      <td>212</td>\n",
              "      <td>1096497</td>\n",
              "    </tr>\n",
              "    <tr>\n",
              "      <th>9998</th>\n",
              "      <td>3333.0</td>\n",
              "      <td>233.08</td>\n",
              "      <td>Y</td>\n",
              "      <td>290</td>\n",
              "      <td>1087248</td>\n",
              "    </tr>\n",
              "    <tr>\n",
              "      <th>9999</th>\n",
              "      <td>5025.0</td>\n",
              "      <td>1436.49</td>\n",
              "      <td>Y</td>\n",
              "      <td>1029</td>\n",
              "      <td>1099003</td>\n",
              "    </tr>\n",
              "  </tbody>\n",
              "</table>\n",
              "<p>10000 rows × 5 columns</p>\n",
              "</div>\n",
              "    <div class=\"colab-df-buttons\">\n",
              "\n",
              "  <div class=\"colab-df-container\">\n",
              "    <button class=\"colab-df-convert\" onclick=\"convertToInteractive('df-556ead20-bc64-46a6-9ebf-9132257e6303')\"\n",
              "            title=\"Convert this dataframe to an interactive table.\"\n",
              "            style=\"display:none;\">\n",
              "\n",
              "  <svg xmlns=\"http://www.w3.org/2000/svg\" height=\"24px\" viewBox=\"0 -960 960 960\">\n",
              "    <path d=\"M120-120v-720h720v720H120Zm60-500h600v-160H180v160Zm220 220h160v-160H400v160Zm0 220h160v-160H400v160ZM180-400h160v-160H180v160Zm440 0h160v-160H620v160ZM180-180h160v-160H180v160Zm440 0h160v-160H620v160Z\"/>\n",
              "  </svg>\n",
              "    </button>\n",
              "\n",
              "  <style>\n",
              "    .colab-df-container {\n",
              "      display:flex;\n",
              "      gap: 12px;\n",
              "    }\n",
              "\n",
              "    .colab-df-convert {\n",
              "      background-color: #E8F0FE;\n",
              "      border: none;\n",
              "      border-radius: 50%;\n",
              "      cursor: pointer;\n",
              "      display: none;\n",
              "      fill: #1967D2;\n",
              "      height: 32px;\n",
              "      padding: 0 0 0 0;\n",
              "      width: 32px;\n",
              "    }\n",
              "\n",
              "    .colab-df-convert:hover {\n",
              "      background-color: #E2EBFA;\n",
              "      box-shadow: 0px 1px 2px rgba(60, 64, 67, 0.3), 0px 1px 3px 1px rgba(60, 64, 67, 0.15);\n",
              "      fill: #174EA6;\n",
              "    }\n",
              "\n",
              "    .colab-df-buttons div {\n",
              "      margin-bottom: 4px;\n",
              "    }\n",
              "\n",
              "    [theme=dark] .colab-df-convert {\n",
              "      background-color: #3B4455;\n",
              "      fill: #D2E3FC;\n",
              "    }\n",
              "\n",
              "    [theme=dark] .colab-df-convert:hover {\n",
              "      background-color: #434B5C;\n",
              "      box-shadow: 0px 1px 3px 1px rgba(0, 0, 0, 0.15);\n",
              "      filter: drop-shadow(0px 1px 2px rgba(0, 0, 0, 0.3));\n",
              "      fill: #FFFFFF;\n",
              "    }\n",
              "  </style>\n",
              "\n",
              "    <script>\n",
              "      const buttonEl =\n",
              "        document.querySelector('#df-556ead20-bc64-46a6-9ebf-9132257e6303 button.colab-df-convert');\n",
              "      buttonEl.style.display =\n",
              "        google.colab.kernel.accessAllowed ? 'block' : 'none';\n",
              "\n",
              "      async function convertToInteractive(key) {\n",
              "        const element = document.querySelector('#df-556ead20-bc64-46a6-9ebf-9132257e6303');\n",
              "        const dataTable =\n",
              "          await google.colab.kernel.invokeFunction('convertToInteractive',\n",
              "                                                    [key], {});\n",
              "        if (!dataTable) return;\n",
              "\n",
              "        const docLinkHtml = 'Like what you see? Visit the ' +\n",
              "          '<a target=\"_blank\" href=https://colab.research.google.com/notebooks/data_table.ipynb>data table notebook</a>'\n",
              "          + ' to learn more about interactive tables.';\n",
              "        element.innerHTML = '';\n",
              "        dataTable['output_type'] = 'display_data';\n",
              "        await google.colab.output.renderOutput(dataTable, element);\n",
              "        const docLink = document.createElement('div');\n",
              "        docLink.innerHTML = docLinkHtml;\n",
              "        element.appendChild(docLink);\n",
              "      }\n",
              "    </script>\n",
              "  </div>\n",
              "\n",
              "\n",
              "<div id=\"df-577f3717-17c4-4159-9d60-0a7ba3c79aa9\">\n",
              "  <button class=\"colab-df-quickchart\" onclick=\"quickchart('df-577f3717-17c4-4159-9d60-0a7ba3c79aa9')\"\n",
              "            title=\"Suggest charts\"\n",
              "            style=\"display:none;\">\n",
              "\n",
              "<svg xmlns=\"http://www.w3.org/2000/svg\" height=\"24px\"viewBox=\"0 0 24 24\"\n",
              "     width=\"24px\">\n",
              "    <g>\n",
              "        <path d=\"M19 3H5c-1.1 0-2 .9-2 2v14c0 1.1.9 2 2 2h14c1.1 0 2-.9 2-2V5c0-1.1-.9-2-2-2zM9 17H7v-7h2v7zm4 0h-2V7h2v10zm4 0h-2v-4h2v4z\"/>\n",
              "    </g>\n",
              "</svg>\n",
              "  </button>\n",
              "\n",
              "<style>\n",
              "  .colab-df-quickchart {\n",
              "      --bg-color: #E8F0FE;\n",
              "      --fill-color: #1967D2;\n",
              "      --hover-bg-color: #E2EBFA;\n",
              "      --hover-fill-color: #174EA6;\n",
              "      --disabled-fill-color: #AAA;\n",
              "      --disabled-bg-color: #DDD;\n",
              "  }\n",
              "\n",
              "  [theme=dark] .colab-df-quickchart {\n",
              "      --bg-color: #3B4455;\n",
              "      --fill-color: #D2E3FC;\n",
              "      --hover-bg-color: #434B5C;\n",
              "      --hover-fill-color: #FFFFFF;\n",
              "      --disabled-bg-color: #3B4455;\n",
              "      --disabled-fill-color: #666;\n",
              "  }\n",
              "\n",
              "  .colab-df-quickchart {\n",
              "    background-color: var(--bg-color);\n",
              "    border: none;\n",
              "    border-radius: 50%;\n",
              "    cursor: pointer;\n",
              "    display: none;\n",
              "    fill: var(--fill-color);\n",
              "    height: 32px;\n",
              "    padding: 0;\n",
              "    width: 32px;\n",
              "  }\n",
              "\n",
              "  .colab-df-quickchart:hover {\n",
              "    background-color: var(--hover-bg-color);\n",
              "    box-shadow: 0 1px 2px rgba(60, 64, 67, 0.3), 0 1px 3px 1px rgba(60, 64, 67, 0.15);\n",
              "    fill: var(--button-hover-fill-color);\n",
              "  }\n",
              "\n",
              "  .colab-df-quickchart-complete:disabled,\n",
              "  .colab-df-quickchart-complete:disabled:hover {\n",
              "    background-color: var(--disabled-bg-color);\n",
              "    fill: var(--disabled-fill-color);\n",
              "    box-shadow: none;\n",
              "  }\n",
              "\n",
              "  .colab-df-spinner {\n",
              "    border: 2px solid var(--fill-color);\n",
              "    border-color: transparent;\n",
              "    border-bottom-color: var(--fill-color);\n",
              "    animation:\n",
              "      spin 1s steps(1) infinite;\n",
              "  }\n",
              "\n",
              "  @keyframes spin {\n",
              "    0% {\n",
              "      border-color: transparent;\n",
              "      border-bottom-color: var(--fill-color);\n",
              "      border-left-color: var(--fill-color);\n",
              "    }\n",
              "    20% {\n",
              "      border-color: transparent;\n",
              "      border-left-color: var(--fill-color);\n",
              "      border-top-color: var(--fill-color);\n",
              "    }\n",
              "    30% {\n",
              "      border-color: transparent;\n",
              "      border-left-color: var(--fill-color);\n",
              "      border-top-color: var(--fill-color);\n",
              "      border-right-color: var(--fill-color);\n",
              "    }\n",
              "    40% {\n",
              "      border-color: transparent;\n",
              "      border-right-color: var(--fill-color);\n",
              "      border-top-color: var(--fill-color);\n",
              "    }\n",
              "    60% {\n",
              "      border-color: transparent;\n",
              "      border-right-color: var(--fill-color);\n",
              "    }\n",
              "    80% {\n",
              "      border-color: transparent;\n",
              "      border-right-color: var(--fill-color);\n",
              "      border-bottom-color: var(--fill-color);\n",
              "    }\n",
              "    90% {\n",
              "      border-color: transparent;\n",
              "      border-bottom-color: var(--fill-color);\n",
              "    }\n",
              "  }\n",
              "</style>\n",
              "\n",
              "  <script>\n",
              "    async function quickchart(key) {\n",
              "      const quickchartButtonEl =\n",
              "        document.querySelector('#' + key + ' button');\n",
              "      quickchartButtonEl.disabled = true;  // To prevent multiple clicks.\n",
              "      quickchartButtonEl.classList.add('colab-df-spinner');\n",
              "      try {\n",
              "        const charts = await google.colab.kernel.invokeFunction(\n",
              "            'suggestCharts', [key], {});\n",
              "      } catch (error) {\n",
              "        console.error('Error during call to suggestCharts:', error);\n",
              "      }\n",
              "      quickchartButtonEl.classList.remove('colab-df-spinner');\n",
              "      quickchartButtonEl.classList.add('colab-df-quickchart-complete');\n",
              "    }\n",
              "    (() => {\n",
              "      let quickchartButtonEl =\n",
              "        document.querySelector('#df-577f3717-17c4-4159-9d60-0a7ba3c79aa9 button');\n",
              "      quickchartButtonEl.style.display =\n",
              "        google.colab.kernel.accessAllowed ? 'block' : 'none';\n",
              "    })();\n",
              "  </script>\n",
              "</div>\n",
              "\n",
              "  <div id=\"id_c4e0269c-c5e6-4c0c-8896-c567d5311120\">\n",
              "    <style>\n",
              "      .colab-df-generate {\n",
              "        background-color: #E8F0FE;\n",
              "        border: none;\n",
              "        border-radius: 50%;\n",
              "        cursor: pointer;\n",
              "        display: none;\n",
              "        fill: #1967D2;\n",
              "        height: 32px;\n",
              "        padding: 0 0 0 0;\n",
              "        width: 32px;\n",
              "      }\n",
              "\n",
              "      .colab-df-generate:hover {\n",
              "        background-color: #E2EBFA;\n",
              "        box-shadow: 0px 1px 2px rgba(60, 64, 67, 0.3), 0px 1px 3px 1px rgba(60, 64, 67, 0.15);\n",
              "        fill: #174EA6;\n",
              "      }\n",
              "\n",
              "      [theme=dark] .colab-df-generate {\n",
              "        background-color: #3B4455;\n",
              "        fill: #D2E3FC;\n",
              "      }\n",
              "\n",
              "      [theme=dark] .colab-df-generate:hover {\n",
              "        background-color: #434B5C;\n",
              "        box-shadow: 0px 1px 3px 1px rgba(0, 0, 0, 0.15);\n",
              "        filter: drop-shadow(0px 1px 2px rgba(0, 0, 0, 0.3));\n",
              "        fill: #FFFFFF;\n",
              "      }\n",
              "    </style>\n",
              "    <button class=\"colab-df-generate\" onclick=\"generateWithVariable('df')\"\n",
              "            title=\"Generate code using this dataframe.\"\n",
              "            style=\"display:none;\">\n",
              "\n",
              "  <svg xmlns=\"http://www.w3.org/2000/svg\" height=\"24px\"viewBox=\"0 0 24 24\"\n",
              "       width=\"24px\">\n",
              "    <path d=\"M7,19H8.4L18.45,9,17,7.55,7,17.6ZM5,21V16.75L18.45,3.32a2,2,0,0,1,2.83,0l1.4,1.43a1.91,1.91,0,0,1,.58,1.4,1.91,1.91,0,0,1-.58,1.4L9.25,21ZM18.45,9,17,7.55Zm-12,3A5.31,5.31,0,0,0,4.9,8.1,5.31,5.31,0,0,0,1,6.5,5.31,5.31,0,0,0,4.9,4.9,5.31,5.31,0,0,0,6.5,1,5.31,5.31,0,0,0,8.1,4.9,5.31,5.31,0,0,0,12,6.5,5.46,5.46,0,0,0,6.5,12Z\"/>\n",
              "  </svg>\n",
              "    </button>\n",
              "    <script>\n",
              "      (() => {\n",
              "      const buttonEl =\n",
              "        document.querySelector('#id_c4e0269c-c5e6-4c0c-8896-c567d5311120 button.colab-df-generate');\n",
              "      buttonEl.style.display =\n",
              "        google.colab.kernel.accessAllowed ? 'block' : 'none';\n",
              "\n",
              "      buttonEl.onclick = () => {\n",
              "        google.colab.notebook.generateWithVariable('df');\n",
              "      }\n",
              "      })();\n",
              "    </script>\n",
              "  </div>\n",
              "\n",
              "    </div>\n",
              "  </div>\n"
            ],
            "text/plain": [
              "       totmou   totrev creditcd  eqpdays  Customer_ID\n",
              "0      7269.0   906.58        Y      371      1082423\n",
              "1     13552.0  1172.25        N       83      1069232\n",
              "2      4152.0   577.39        Y      675      1031705\n",
              "3      1863.0   294.26        Y      218      1089806\n",
              "4      4155.0   433.16        N      222      1076695\n",
              "...       ...      ...      ...      ...          ...\n",
              "9995   2570.0   484.31        Y      611      1027614\n",
              "9996   2105.0   583.36        Y     1243      1098422\n",
              "9997   3690.0   294.29        Y      212      1096497\n",
              "9998   3333.0   233.08        Y      290      1087248\n",
              "9999   5025.0  1436.49        Y     1029      1099003\n",
              "\n",
              "[10000 rows x 5 columns]"
            ]
          },
          "execution_count": 13,
          "metadata": {},
          "output_type": "execute_result"
        }
      ],
      "source": [
        "df = pd.read_csv(url)\n",
        "df"
      ]
    },
    {
      "cell_type": "markdown",
      "metadata": {
        "id": "vucr7GWI5vZ4"
      },
      "source": [
        "---\n",
        "# **Análisis exploratorio de los datos**\n",
        "---\n",
        "\n",
        "Se realiza una exploración inicial de los datos de la base de datos para familiarizarse con la información disponible, entender los tipos de datos presentes y obtener una visión general de la cantidad de registros disponibles."
      ]
    },
    {
      "cell_type": "code",
      "execution_count": 14,
      "metadata": {
        "colab": {
          "base_uri": "https://localhost:8080/"
        },
        "id": "BTxhdxOl20aq",
        "outputId": "c03ea43e-d45a-4690-e017-a7a590a7153f",
        "vscode": {
          "languageId": "r"
        }
      },
      "outputs": [
        {
          "name": "stdout",
          "output_type": "stream",
          "text": [
            "<class 'pandas.core.frame.DataFrame'>\n",
            "RangeIndex: 10000 entries, 0 to 9999\n",
            "Data columns (total 5 columns):\n",
            " #   Column       Non-Null Count  Dtype  \n",
            "---  ------       --------------  -----  \n",
            " 0   totmou       10000 non-null  float64\n",
            " 1   totrev       10000 non-null  float64\n",
            " 2   creditcd     9848 non-null   object \n",
            " 3   eqpdays      10000 non-null  int64  \n",
            " 4   Customer_ID  10000 non-null  int64  \n",
            "dtypes: float64(2), int64(2), object(1)\n",
            "memory usage: 390.8+ KB\n"
          ]
        }
      ],
      "source": [
        "df.info()"
      ]
    },
    {
      "cell_type": "markdown",
      "metadata": {
        "id": "JYUjfrlaLKr6"
      },
      "source": [
        "##**Identificación de variables**"
      ]
    },
    {
      "cell_type": "code",
      "execution_count": 15,
      "metadata": {
        "colab": {
          "base_uri": "https://localhost:8080/"
        },
        "id": "S0dlQ--1-5dk",
        "outputId": "1389b981-882b-4949-ddbc-e0adea8b5e00",
        "vscode": {
          "languageId": "r"
        }
      },
      "outputs": [
        {
          "data": {
            "text/plain": [
              "Index(['totmou', 'totrev', 'creditcd', 'eqpdays', 'Customer_ID'], dtype='object')"
            ]
          },
          "execution_count": 15,
          "metadata": {},
          "output_type": "execute_result"
        }
      ],
      "source": [
        "df.columns"
      ]
    },
    {
      "cell_type": "markdown",
      "metadata": {
        "id": "_CA4OU_KAmfT"
      },
      "source": [
        "##**Estadísticas principales**\n",
        "\n",
        "Se explora el archivo revisando el nombre, el tipo de información y cantidad de registros con valores nulos para cada variable."
      ]
    },
    {
      "cell_type": "code",
      "execution_count": 16,
      "metadata": {
        "colab": {
          "base_uri": "https://localhost:8080/",
          "height": 300
        },
        "id": "uOVG-co2IDE3",
        "outputId": "cc86bb11-e3c1-474c-ad22-6edf3957b704",
        "vscode": {
          "languageId": "r"
        }
      },
      "outputs": [
        {
          "data": {
            "application/vnd.google.colaboratory.intrinsic+json": {
              "summary": "{\n  \"name\": \"df\",\n  \"rows\": 8,\n  \"fields\": [\n    {\n      \"column\": \"totmou\",\n      \"properties\": {\n        \"dtype\": \"number\",\n        \"std\": 55613.1094213496,\n        \"min\": 0.0,\n        \"max\": 163264.1767,\n        \"num_unique_values\": 8,\n        \"samples\": [\n          7692.8048656727005,\n          5262.0,\n          10000.0\n        ],\n        \"semantic_type\": \"\",\n        \"description\": \"\"\n      }\n    },\n    {\n      \"column\": \"totrev\",\n      \"properties\": {\n        \"dtype\": \"number\",\n        \"std\": 5168.118503902677,\n        \"min\": 11.1,\n        \"max\": 13426.6,\n        \"num_unique_values\": 8,\n        \"samples\": [\n          1042.133807,\n          820.235,\n          10000.0\n        ],\n        \"semantic_type\": \"\",\n        \"description\": \"\"\n      }\n    },\n    {\n      \"column\": \"eqpdays\",\n      \"properties\": {\n        \"dtype\": \"number\",\n        \"std\": 3403.64201474267,\n        \"min\": -5.0,\n        \"max\": 10000.0,\n        \"num_unique_values\": 8,\n        \"samples\": [\n          386.7945,\n          338.0,\n          10000.0\n        ],\n        \"semantic_type\": \"\",\n        \"description\": \"\"\n      }\n    },\n    {\n      \"column\": \"Customer_ID\",\n      \"properties\": {\n        \"dtype\": \"number\",\n        \"std\": 477995.05812656414,\n        \"min\": 10000.0,\n        \"max\": 1099992.0,\n        \"num_unique_values\": 8,\n        \"samples\": [\n          1049965.1723,\n          1049652.5,\n          10000.0\n        ],\n        \"semantic_type\": \"\",\n        \"description\": \"\"\n      }\n    }\n  ]\n}",
              "type": "dataframe"
            },
            "text/html": [
              "\n",
              "  <div id=\"df-6cd9e828-8358-4f8d-bb1d-42b7c52ee3e9\" class=\"colab-df-container\">\n",
              "    <div>\n",
              "<style scoped>\n",
              "    .dataframe tbody tr th:only-of-type {\n",
              "        vertical-align: middle;\n",
              "    }\n",
              "\n",
              "    .dataframe tbody tr th {\n",
              "        vertical-align: top;\n",
              "    }\n",
              "\n",
              "    .dataframe thead th {\n",
              "        text-align: right;\n",
              "    }\n",
              "</style>\n",
              "<table border=\"1\" class=\"dataframe\">\n",
              "  <thead>\n",
              "    <tr style=\"text-align: right;\">\n",
              "      <th></th>\n",
              "      <th>totmou</th>\n",
              "      <th>totrev</th>\n",
              "      <th>eqpdays</th>\n",
              "      <th>Customer_ID</th>\n",
              "    </tr>\n",
              "  </thead>\n",
              "  <tbody>\n",
              "    <tr>\n",
              "      <th>count</th>\n",
              "      <td>10000.000000</td>\n",
              "      <td>10000.000000</td>\n",
              "      <td>10000.000000</td>\n",
              "      <td>1.000000e+04</td>\n",
              "    </tr>\n",
              "    <tr>\n",
              "      <th>mean</th>\n",
              "      <td>7692.804866</td>\n",
              "      <td>1042.133807</td>\n",
              "      <td>386.794500</td>\n",
              "      <td>1.049965e+06</td>\n",
              "    </tr>\n",
              "    <tr>\n",
              "      <th>std</th>\n",
              "      <td>8657.917883</td>\n",
              "      <td>857.144895</td>\n",
              "      <td>252.720196</td>\n",
              "      <td>2.879424e+04</td>\n",
              "    </tr>\n",
              "    <tr>\n",
              "      <th>min</th>\n",
              "      <td>0.000000</td>\n",
              "      <td>11.100000</td>\n",
              "      <td>-5.000000</td>\n",
              "      <td>1.000014e+06</td>\n",
              "    </tr>\n",
              "    <tr>\n",
              "      <th>25%</th>\n",
              "      <td>2576.000000</td>\n",
              "      <td>526.787500</td>\n",
              "      <td>210.000000</td>\n",
              "      <td>1.025053e+06</td>\n",
              "    </tr>\n",
              "    <tr>\n",
              "      <th>50%</th>\n",
              "      <td>5262.000000</td>\n",
              "      <td>820.235000</td>\n",
              "      <td>338.000000</td>\n",
              "      <td>1.049652e+06</td>\n",
              "    </tr>\n",
              "    <tr>\n",
              "      <th>75%</th>\n",
              "      <td>9823.250000</td>\n",
              "      <td>1272.975000</td>\n",
              "      <td>522.000000</td>\n",
              "      <td>1.074798e+06</td>\n",
              "    </tr>\n",
              "    <tr>\n",
              "      <th>max</th>\n",
              "      <td>163264.176700</td>\n",
              "      <td>13426.600000</td>\n",
              "      <td>1823.000000</td>\n",
              "      <td>1.099992e+06</td>\n",
              "    </tr>\n",
              "  </tbody>\n",
              "</table>\n",
              "</div>\n",
              "    <div class=\"colab-df-buttons\">\n",
              "\n",
              "  <div class=\"colab-df-container\">\n",
              "    <button class=\"colab-df-convert\" onclick=\"convertToInteractive('df-6cd9e828-8358-4f8d-bb1d-42b7c52ee3e9')\"\n",
              "            title=\"Convert this dataframe to an interactive table.\"\n",
              "            style=\"display:none;\">\n",
              "\n",
              "  <svg xmlns=\"http://www.w3.org/2000/svg\" height=\"24px\" viewBox=\"0 -960 960 960\">\n",
              "    <path d=\"M120-120v-720h720v720H120Zm60-500h600v-160H180v160Zm220 220h160v-160H400v160Zm0 220h160v-160H400v160ZM180-400h160v-160H180v160Zm440 0h160v-160H620v160ZM180-180h160v-160H180v160Zm440 0h160v-160H620v160Z\"/>\n",
              "  </svg>\n",
              "    </button>\n",
              "\n",
              "  <style>\n",
              "    .colab-df-container {\n",
              "      display:flex;\n",
              "      gap: 12px;\n",
              "    }\n",
              "\n",
              "    .colab-df-convert {\n",
              "      background-color: #E8F0FE;\n",
              "      border: none;\n",
              "      border-radius: 50%;\n",
              "      cursor: pointer;\n",
              "      display: none;\n",
              "      fill: #1967D2;\n",
              "      height: 32px;\n",
              "      padding: 0 0 0 0;\n",
              "      width: 32px;\n",
              "    }\n",
              "\n",
              "    .colab-df-convert:hover {\n",
              "      background-color: #E2EBFA;\n",
              "      box-shadow: 0px 1px 2px rgba(60, 64, 67, 0.3), 0px 1px 3px 1px rgba(60, 64, 67, 0.15);\n",
              "      fill: #174EA6;\n",
              "    }\n",
              "\n",
              "    .colab-df-buttons div {\n",
              "      margin-bottom: 4px;\n",
              "    }\n",
              "\n",
              "    [theme=dark] .colab-df-convert {\n",
              "      background-color: #3B4455;\n",
              "      fill: #D2E3FC;\n",
              "    }\n",
              "\n",
              "    [theme=dark] .colab-df-convert:hover {\n",
              "      background-color: #434B5C;\n",
              "      box-shadow: 0px 1px 3px 1px rgba(0, 0, 0, 0.15);\n",
              "      filter: drop-shadow(0px 1px 2px rgba(0, 0, 0, 0.3));\n",
              "      fill: #FFFFFF;\n",
              "    }\n",
              "  </style>\n",
              "\n",
              "    <script>\n",
              "      const buttonEl =\n",
              "        document.querySelector('#df-6cd9e828-8358-4f8d-bb1d-42b7c52ee3e9 button.colab-df-convert');\n",
              "      buttonEl.style.display =\n",
              "        google.colab.kernel.accessAllowed ? 'block' : 'none';\n",
              "\n",
              "      async function convertToInteractive(key) {\n",
              "        const element = document.querySelector('#df-6cd9e828-8358-4f8d-bb1d-42b7c52ee3e9');\n",
              "        const dataTable =\n",
              "          await google.colab.kernel.invokeFunction('convertToInteractive',\n",
              "                                                    [key], {});\n",
              "        if (!dataTable) return;\n",
              "\n",
              "        const docLinkHtml = 'Like what you see? Visit the ' +\n",
              "          '<a target=\"_blank\" href=https://colab.research.google.com/notebooks/data_table.ipynb>data table notebook</a>'\n",
              "          + ' to learn more about interactive tables.';\n",
              "        element.innerHTML = '';\n",
              "        dataTable['output_type'] = 'display_data';\n",
              "        await google.colab.output.renderOutput(dataTable, element);\n",
              "        const docLink = document.createElement('div');\n",
              "        docLink.innerHTML = docLinkHtml;\n",
              "        element.appendChild(docLink);\n",
              "      }\n",
              "    </script>\n",
              "  </div>\n",
              "\n",
              "\n",
              "<div id=\"df-fb4dcb37-6cad-493c-b6b9-ade85ef08d84\">\n",
              "  <button class=\"colab-df-quickchart\" onclick=\"quickchart('df-fb4dcb37-6cad-493c-b6b9-ade85ef08d84')\"\n",
              "            title=\"Suggest charts\"\n",
              "            style=\"display:none;\">\n",
              "\n",
              "<svg xmlns=\"http://www.w3.org/2000/svg\" height=\"24px\"viewBox=\"0 0 24 24\"\n",
              "     width=\"24px\">\n",
              "    <g>\n",
              "        <path d=\"M19 3H5c-1.1 0-2 .9-2 2v14c0 1.1.9 2 2 2h14c1.1 0 2-.9 2-2V5c0-1.1-.9-2-2-2zM9 17H7v-7h2v7zm4 0h-2V7h2v10zm4 0h-2v-4h2v4z\"/>\n",
              "    </g>\n",
              "</svg>\n",
              "  </button>\n",
              "\n",
              "<style>\n",
              "  .colab-df-quickchart {\n",
              "      --bg-color: #E8F0FE;\n",
              "      --fill-color: #1967D2;\n",
              "      --hover-bg-color: #E2EBFA;\n",
              "      --hover-fill-color: #174EA6;\n",
              "      --disabled-fill-color: #AAA;\n",
              "      --disabled-bg-color: #DDD;\n",
              "  }\n",
              "\n",
              "  [theme=dark] .colab-df-quickchart {\n",
              "      --bg-color: #3B4455;\n",
              "      --fill-color: #D2E3FC;\n",
              "      --hover-bg-color: #434B5C;\n",
              "      --hover-fill-color: #FFFFFF;\n",
              "      --disabled-bg-color: #3B4455;\n",
              "      --disabled-fill-color: #666;\n",
              "  }\n",
              "\n",
              "  .colab-df-quickchart {\n",
              "    background-color: var(--bg-color);\n",
              "    border: none;\n",
              "    border-radius: 50%;\n",
              "    cursor: pointer;\n",
              "    display: none;\n",
              "    fill: var(--fill-color);\n",
              "    height: 32px;\n",
              "    padding: 0;\n",
              "    width: 32px;\n",
              "  }\n",
              "\n",
              "  .colab-df-quickchart:hover {\n",
              "    background-color: var(--hover-bg-color);\n",
              "    box-shadow: 0 1px 2px rgba(60, 64, 67, 0.3), 0 1px 3px 1px rgba(60, 64, 67, 0.15);\n",
              "    fill: var(--button-hover-fill-color);\n",
              "  }\n",
              "\n",
              "  .colab-df-quickchart-complete:disabled,\n",
              "  .colab-df-quickchart-complete:disabled:hover {\n",
              "    background-color: var(--disabled-bg-color);\n",
              "    fill: var(--disabled-fill-color);\n",
              "    box-shadow: none;\n",
              "  }\n",
              "\n",
              "  .colab-df-spinner {\n",
              "    border: 2px solid var(--fill-color);\n",
              "    border-color: transparent;\n",
              "    border-bottom-color: var(--fill-color);\n",
              "    animation:\n",
              "      spin 1s steps(1) infinite;\n",
              "  }\n",
              "\n",
              "  @keyframes spin {\n",
              "    0% {\n",
              "      border-color: transparent;\n",
              "      border-bottom-color: var(--fill-color);\n",
              "      border-left-color: var(--fill-color);\n",
              "    }\n",
              "    20% {\n",
              "      border-color: transparent;\n",
              "      border-left-color: var(--fill-color);\n",
              "      border-top-color: var(--fill-color);\n",
              "    }\n",
              "    30% {\n",
              "      border-color: transparent;\n",
              "      border-left-color: var(--fill-color);\n",
              "      border-top-color: var(--fill-color);\n",
              "      border-right-color: var(--fill-color);\n",
              "    }\n",
              "    40% {\n",
              "      border-color: transparent;\n",
              "      border-right-color: var(--fill-color);\n",
              "      border-top-color: var(--fill-color);\n",
              "    }\n",
              "    60% {\n",
              "      border-color: transparent;\n",
              "      border-right-color: var(--fill-color);\n",
              "    }\n",
              "    80% {\n",
              "      border-color: transparent;\n",
              "      border-right-color: var(--fill-color);\n",
              "      border-bottom-color: var(--fill-color);\n",
              "    }\n",
              "    90% {\n",
              "      border-color: transparent;\n",
              "      border-bottom-color: var(--fill-color);\n",
              "    }\n",
              "  }\n",
              "</style>\n",
              "\n",
              "  <script>\n",
              "    async function quickchart(key) {\n",
              "      const quickchartButtonEl =\n",
              "        document.querySelector('#' + key + ' button');\n",
              "      quickchartButtonEl.disabled = true;  // To prevent multiple clicks.\n",
              "      quickchartButtonEl.classList.add('colab-df-spinner');\n",
              "      try {\n",
              "        const charts = await google.colab.kernel.invokeFunction(\n",
              "            'suggestCharts', [key], {});\n",
              "      } catch (error) {\n",
              "        console.error('Error during call to suggestCharts:', error);\n",
              "      }\n",
              "      quickchartButtonEl.classList.remove('colab-df-spinner');\n",
              "      quickchartButtonEl.classList.add('colab-df-quickchart-complete');\n",
              "    }\n",
              "    (() => {\n",
              "      let quickchartButtonEl =\n",
              "        document.querySelector('#df-fb4dcb37-6cad-493c-b6b9-ade85ef08d84 button');\n",
              "      quickchartButtonEl.style.display =\n",
              "        google.colab.kernel.accessAllowed ? 'block' : 'none';\n",
              "    })();\n",
              "  </script>\n",
              "</div>\n",
              "\n",
              "    </div>\n",
              "  </div>\n"
            ],
            "text/plain": [
              "              totmou        totrev       eqpdays   Customer_ID\n",
              "count   10000.000000  10000.000000  10000.000000  1.000000e+04\n",
              "mean     7692.804866   1042.133807    386.794500  1.049965e+06\n",
              "std      8657.917883    857.144895    252.720196  2.879424e+04\n",
              "min         0.000000     11.100000     -5.000000  1.000014e+06\n",
              "25%      2576.000000    526.787500    210.000000  1.025053e+06\n",
              "50%      5262.000000    820.235000    338.000000  1.049652e+06\n",
              "75%      9823.250000   1272.975000    522.000000  1.074798e+06\n",
              "max    163264.176700  13426.600000   1823.000000  1.099992e+06"
            ]
          },
          "execution_count": 16,
          "metadata": {},
          "output_type": "execute_result"
        }
      ],
      "source": [
        "# Exploración inicial de los datos - valores estadísticos totales calculados a las variables numéricas\n",
        "df.describe()"
      ]
    },
    {
      "cell_type": "markdown",
      "metadata": {
        "id": "sATbvEQCAywl"
      },
      "source": [
        "## **Variables numéricas**"
      ]
    },
    {
      "cell_type": "markdown",
      "metadata": {
        "id": "OkAutTlyA6qC"
      },
      "source": [
        "###**totrev**\n",
        "\n",
        "Es una variable numérica que almacena los ingresos del cliente"
      ]
    },
    {
      "cell_type": "code",
      "execution_count": 17,
      "metadata": {
        "colab": {
          "base_uri": "https://localhost:8080/"
        },
        "id": "g_VEpqf_BldW",
        "outputId": "e63abc95-560a-4cbc-db90-8445b1aad85d",
        "vscode": {
          "languageId": "r"
        }
      },
      "outputs": [
        {
          "data": {
            "text/plain": [
              "count    10000.000000\n",
              "mean      1042.133807\n",
              "std        857.144895\n",
              "min         11.100000\n",
              "25%        526.787500\n",
              "50%        820.235000\n",
              "75%       1272.975000\n",
              "max      13426.600000\n",
              "Name: totrev, dtype: float64"
            ]
          },
          "execution_count": 17,
          "metadata": {},
          "output_type": "execute_result"
        }
      ],
      "source": [
        "#Estadísticas de la variable\n",
        "df['totrev'].describe()"
      ]
    },
    {
      "cell_type": "code",
      "execution_count": 18,
      "metadata": {
        "colab": {
          "base_uri": "https://localhost:8080/",
          "height": 0
        },
        "id": "EuWze-O_Bwd2",
        "outputId": "f435bbf6-ed50-40fb-c5c0-e8ef92bfa0ad",
        "vscode": {
          "languageId": "r"
        }
      },
      "outputs": [
        {
          "data": {
            "text/plain": [
              "<Axes: >"
            ]
          },
          "execution_count": 18,
          "metadata": {},
          "output_type": "execute_result"
        },
        {
          "data": {
            "image/png": "[encoded data removed]",
            "text/plain": [
              "<Figure size 640x480 with 1 Axes>"
            ]
          },
          "metadata": {},
          "output_type": "display_data"
        }
      ],
      "source": [
        "df['totrev'].hist()"
      ]
    },
    {
      "cell_type": "code",
      "execution_count": 19,
      "metadata": {
        "colab": {
          "base_uri": "https://localhost:8080/",
          "height": 0
        },
        "id": "d_6OsYUsCBaS",
        "outputId": "1b9e8f90-383d-4f90-8b28-24dd9ffb5e84",
        "vscode": {
          "languageId": "r"
        }
      },
      "outputs": [
        {
          "data": {
            "text/plain": [
              "{'whiskers': [<matplotlib.lines.Line2D at 0x7c9c87088430>,\n",
              "  <matplotlib.lines.Line2D at 0x7c9c870886d0>],\n",
              " 'caps': [<matplotlib.lines.Line2D at 0x7c9c87088970>,\n",
              "  <matplotlib.lines.Line2D at 0x7c9c87088c10>],\n",
              " 'boxes': [<matplotlib.lines.Line2D at 0x7c9c87088190>],\n",
              " 'medians': [<matplotlib.lines.Line2D at 0x7c9c87088eb0>],\n",
              " 'fliers': [<matplotlib.lines.Line2D at 0x7c9c87089150>],\n",
              " 'means': []}"
            ]
          },
          "execution_count": 19,
          "metadata": {},
          "output_type": "execute_result"
        },
        {
          "data": {
            "image/png": "[encoded data removed]",
            "text/plain": [
              "<Figure size 640x480 with 1 Axes>"
            ]
          },
          "metadata": {},
          "output_type": "display_data"
        }
      ],
      "source": [
        "plt.boxplot(x=df['totrev'])"
      ]
    },
    {
      "cell_type": "markdown",
      "metadata": {
        "id": "EtyDsihwCqdU"
      },
      "source": [
        "###**totmou**\n",
        "\n",
        "Es una variable numérica que almacena el total de minutos usados por el cliente."
      ]
    },
    {
      "cell_type": "code",
      "execution_count": 20,
      "metadata": {
        "colab": {
          "base_uri": "https://localhost:8080/"
        },
        "id": "Mf1TnKclCqda",
        "outputId": "56ce8d98-4591-4294-84af-5dc4bb2c644c",
        "vscode": {
          "languageId": "r"
        }
      },
      "outputs": [
        {
          "data": {
            "text/plain": [
              "count     10000.000000\n",
              "mean       7692.804866\n",
              "std        8657.917883\n",
              "min           0.000000\n",
              "25%        2576.000000\n",
              "50%        5262.000000\n",
              "75%        9823.250000\n",
              "max      163264.176700\n",
              "Name: totmou, dtype: float64"
            ]
          },
          "execution_count": 20,
          "metadata": {},
          "output_type": "execute_result"
        }
      ],
      "source": [
        "#Estadísticas de la variable\n",
        "df['totmou'].describe()"
      ]
    },
    {
      "cell_type": "code",
      "execution_count": 21,
      "metadata": {
        "colab": {
          "base_uri": "https://localhost:8080/",
          "height": 0
        },
        "id": "Dc8_mDKKCqda",
        "outputId": "395b81fa-4a4d-46cc-a630-368077917336",
        "vscode": {
          "languageId": "r"
        }
      },
      "outputs": [
        {
          "data": {
            "text/plain": [
              "<Axes: >"
            ]
          },
          "execution_count": 21,
          "metadata": {},
          "output_type": "execute_result"
        },
        {
          "data": {
            "image/png": "[encoded data removed]",
            "text/plain": [
              "<Figure size 640x480 with 1 Axes>"
            ]
          },
          "metadata": {},
          "output_type": "display_data"
        }
      ],
      "source": [
        "df['totmou'].hist()"
      ]
    },
    {
      "cell_type": "code",
      "execution_count": 22,
      "metadata": {
        "colab": {
          "base_uri": "https://localhost:8080/",
          "height": 0
        },
        "id": "JFyImV0DCqda",
        "outputId": "92746bd1-bc7f-4246-86a2-663853de106d",
        "vscode": {
          "languageId": "r"
        }
      },
      "outputs": [
        {
          "data": {
            "text/plain": [
              "{'whiskers': [<matplotlib.lines.Line2D at 0x7c9c86f6fb50>,\n",
              "  <matplotlib.lines.Line2D at 0x7c9c86f6fdf0>],\n",
              " 'caps': [<matplotlib.lines.Line2D at 0x7c9c86fa00d0>,\n",
              "  <matplotlib.lines.Line2D at 0x7c9c86fa0370>],\n",
              " 'boxes': [<matplotlib.lines.Line2D at 0x7c9c86f6f8b0>],\n",
              " 'medians': [<matplotlib.lines.Line2D at 0x7c9c86fa0610>],\n",
              " 'fliers': [<matplotlib.lines.Line2D at 0x7c9c86fa08b0>],\n",
              " 'means': []}"
            ]
          },
          "execution_count": 22,
          "metadata": {},
          "output_type": "execute_result"
        },
        {
          "data": {
            "image/png": "[encoded data removed]",
            "text/plain": [
              "<Figure size 640x480 with 1 Axes>"
            ]
          },
          "metadata": {},
          "output_type": "display_data"
        }
      ],
      "source": [
        "plt.boxplot(x=df['totmou'])"
      ]
    },
    {
      "cell_type": "markdown",
      "metadata": {
        "id": "Ch5bOKpuDFDq"
      },
      "source": [
        "###**eqpdays**\n",
        "\n",
        "Es una variable numérica que almacena el número de días (antigüedad) del equipo actual  "
      ]
    },
    {
      "cell_type": "code",
      "execution_count": 23,
      "metadata": {
        "colab": {
          "base_uri": "https://localhost:8080/"
        },
        "id": "EdoCsQoaDFDv",
        "outputId": "36225f7a-d82c-49f6-e3ac-0e5bf4ebfd2b",
        "vscode": {
          "languageId": "r"
        }
      },
      "outputs": [
        {
          "data": {
            "text/plain": [
              "count    10000.000000\n",
              "mean       386.794500\n",
              "std        252.720196\n",
              "min         -5.000000\n",
              "25%        210.000000\n",
              "50%        338.000000\n",
              "75%        522.000000\n",
              "max       1823.000000\n",
              "Name: eqpdays, dtype: float64"
            ]
          },
          "execution_count": 23,
          "metadata": {},
          "output_type": "execute_result"
        }
      ],
      "source": [
        "#Estadísticas de la variable\n",
        "df['eqpdays'].describe()"
      ]
    },
    {
      "cell_type": "code",
      "execution_count": 24,
      "metadata": {
        "colab": {
          "base_uri": "https://localhost:8080/",
          "height": 0
        },
        "id": "c_Ahi7ZCDFDw",
        "outputId": "131efd2d-7629-43ce-b565-495b324999d3",
        "vscode": {
          "languageId": "r"
        }
      },
      "outputs": [
        {
          "data": {
            "text/plain": [
              "<Axes: >"
            ]
          },
          "execution_count": 24,
          "metadata": {},
          "output_type": "execute_result"
        },
        {
          "data": {
            "image/png": "[encoded data removed]",
            "text/plain": [
              "<Figure size 640x480 with 1 Axes>"
            ]
          },
          "metadata": {},
          "output_type": "display_data"
        }
      ],
      "source": [
        "df['eqpdays'].hist()"
      ]
    },
    {
      "cell_type": "code",
      "execution_count": 25,
      "metadata": {
        "colab": {
          "base_uri": "https://localhost:8080/",
          "height": 0
        },
        "id": "ruTDurusDFDw",
        "outputId": "6b73808c-364e-4b6e-80a1-f59d65908a00",
        "vscode": {
          "languageId": "r"
        }
      },
      "outputs": [
        {
          "data": {
            "text/plain": [
              "{'whiskers': [<matplotlib.lines.Line2D at 0x7c9c86ea9240>,\n",
              "  <matplotlib.lines.Line2D at 0x7c9c86ea94e0>],\n",
              " 'caps': [<matplotlib.lines.Line2D at 0x7c9c86ea9780>,\n",
              "  <matplotlib.lines.Line2D at 0x7c9c86ea9a20>],\n",
              " 'boxes': [<matplotlib.lines.Line2D at 0x7c9c86ea8fa0>],\n",
              " 'medians': [<matplotlib.lines.Line2D at 0x7c9c86ea9cc0>],\n",
              " 'fliers': [<matplotlib.lines.Line2D at 0x7c9c86ea9f60>],\n",
              " 'means': []}"
            ]
          },
          "execution_count": 25,
          "metadata": {},
          "output_type": "execute_result"
        },
        {
          "data": {
            "image/png": "[encoded data removed]",
            "text/plain": [
              "<Figure size 640x480 with 1 Axes>"
            ]
          },
          "metadata": {},
          "output_type": "display_data"
        }
      ],
      "source": [
        "plt.boxplot(x=df['eqpdays'])"
      ]
    },
    {
      "cell_type": "markdown",
      "metadata": {
        "id": "6gPsIatFDYMI"
      },
      "source": [
        "###**Customer_ID**\n",
        "\n",
        "Es una variable numérica entera que identifica al cliente.  Cada ID es único  por tanto no se obtendrán valores estadísticos de este campo.  \n"
      ]
    },
    {
      "cell_type": "code",
      "execution_count": 26,
      "metadata": {
        "colab": {
          "base_uri": "https://localhost:8080/"
        },
        "id": "H04veVwXDYMP",
        "outputId": "c7b29072-bb0d-4b57-ead8-6dc5508036ec",
        "vscode": {
          "languageId": "r"
        }
      },
      "outputs": [
        {
          "data": {
            "text/plain": [
              "10000"
            ]
          },
          "execution_count": 26,
          "metadata": {},
          "output_type": "execute_result"
        }
      ],
      "source": [
        "df['Customer_ID'].nunique()"
      ]
    },
    {
      "cell_type": "markdown",
      "metadata": {
        "id": "YtjnoXHhIQq3"
      },
      "source": [
        "## **Variables categóricas**"
      ]
    },
    {
      "cell_type": "markdown",
      "metadata": {
        "id": "GBG44MVvISiO"
      },
      "source": [
        "### **creditcd**\n",
        "Es una variable categórica que muestra un indicador de aprobación de la tarjeta de crédito"
      ]
    },
    {
      "cell_type": "code",
      "execution_count": 27,
      "metadata": {
        "colab": {
          "base_uri": "https://localhost:8080/"
        },
        "id": "caOhhMMaIjvO",
        "outputId": "ef9628c6-59e0-4829-8a63-0f341e943df7",
        "vscode": {
          "languageId": "r"
        }
      },
      "outputs": [
        {
          "data": {
            "text/plain": [
              "array(['Y', 'N', nan], dtype=object)"
            ]
          },
          "execution_count": 27,
          "metadata": {},
          "output_type": "execute_result"
        }
      ],
      "source": [
        "#Categorías de la variable\n",
        "df['creditcd'].unique()"
      ]
    },
    {
      "cell_type": "code",
      "execution_count": 28,
      "metadata": {
        "colab": {
          "base_uri": "https://localhost:8080/"
        },
        "id": "0n63QXfXKHdO",
        "outputId": "5dcfec7e-0b9e-4920-c3f2-79a2427bc909",
        "vscode": {
          "languageId": "r"
        }
      },
      "outputs": [
        {
          "data": {
            "text/plain": [
              "creditcd\n",
              "Y    6796\n",
              "N    3052\n",
              "Name: count, dtype: int64"
            ]
          },
          "execution_count": 28,
          "metadata": {},
          "output_type": "execute_result"
        }
      ],
      "source": [
        "df['creditcd'].value_counts()"
      ]
    },
    {
      "cell_type": "code",
      "execution_count": 29,
      "metadata": {
        "colab": {
          "base_uri": "https://localhost:8080/",
          "height": 463
        },
        "id": "tvcFBsLgJwg7",
        "outputId": "39968aa3-92f8-4b17-ba38-b567a7ff918d",
        "vscode": {
          "languageId": "r"
        }
      },
      "outputs": [
        {
          "data": {
            "text/plain": [
              "<Axes: xlabel='creditcd'>"
            ]
          },
          "execution_count": 29,
          "metadata": {},
          "output_type": "execute_result"
        },
        {
          "data": {
            "image/png": "[encoded data removed]",
            "text/plain": [
              "<Figure size 640x480 with 1 Axes>"
            ]
          },
          "metadata": {},
          "output_type": "display_data"
        }
      ],
      "source": [
        "df['creditcd'].value_counts().plot(kind='bar', color='green')"
      ]
    },
    {
      "cell_type": "markdown",
      "metadata": {
        "id": "8nkYLdhUZa7L"
      },
      "source": [
        "---\n",
        "# **Limpieza de los datos**\n",
        "---\n",
        "\n",
        "Debido a que en la variable ***creditcd*** existen valores válidos únicamente para 9848 registros, y los restantes corresponden a valores nulos, se eliminarán los registros con valores nulos para facilitar el análisis posterior de la base de datos."
      ]
    },
    {
      "cell_type": "code",
      "execution_count": 30,
      "metadata": {
        "colab": {
          "base_uri": "https://localhost:8080/",
          "height": 423
        },
        "id": "Ave7Gk_QZEOo",
        "outputId": "e69f9b28-c1b1-4e9d-9a74-0d388f2c7911",
        "vscode": {
          "languageId": "r"
        }
      },
      "outputs": [
        {
          "data": {
            "application/vnd.google.colaboratory.intrinsic+json": {
              "summary": "{\n  \"name\": \"df\",\n  \"rows\": 9848,\n  \"fields\": [\n    {\n      \"column\": \"totmou\",\n      \"properties\": {\n        \"dtype\": \"number\",\n        \"std\": 8662.012933859156,\n        \"min\": 0.0,\n        \"max\": 163264.1767,\n        \"num_unique_values\": 7346,\n        \"samples\": [\n          4166.0,\n          15940.0,\n          15880.0\n        ],\n        \"semantic_type\": \"\",\n        \"description\": \"\"\n      }\n    },\n    {\n      \"column\": \"totrev\",\n      \"properties\": {\n        \"dtype\": \"number\",\n        \"std\": 857.9459710567606,\n        \"min\": 11.1,\n        \"max\": 13426.6,\n        \"num_unique_values\": 9556,\n        \"samples\": [\n          512.36,\n          1061.46,\n          810.04\n        ],\n        \"semantic_type\": \"\",\n        \"description\": \"\"\n      }\n    },\n    {\n      \"column\": \"creditcd\",\n      \"properties\": {\n        \"dtype\": \"category\",\n        \"num_unique_values\": 2,\n        \"samples\": [\n          \"N\",\n          \"Y\"\n        ],\n        \"semantic_type\": \"\",\n        \"description\": \"\"\n      }\n    },\n    {\n      \"column\": \"eqpdays\",\n      \"properties\": {\n        \"dtype\": \"number\",\n        \"std\": 252,\n        \"min\": -5,\n        \"max\": 1823,\n        \"num_unique_values\": 1159,\n        \"samples\": [\n          835,\n          813\n        ],\n        \"semantic_type\": \"\",\n        \"description\": \"\"\n      }\n    },\n    {\n      \"column\": \"Customer_ID\",\n      \"properties\": {\n        \"dtype\": \"number\",\n        \"std\": 28753,\n        \"min\": 1000014,\n        \"max\": 1099992,\n        \"num_unique_values\": 9848,\n        \"samples\": [\n          1069808,\n          1030895\n        ],\n        \"semantic_type\": \"\",\n        \"description\": \"\"\n      }\n    }\n  ]\n}",
              "type": "dataframe",
              "variable_name": "df"
            },
            "text/html": [
              "\n",
              "  <div id=\"df-38c08b5f-3a67-4734-9923-791a22008ed9\" class=\"colab-df-container\">\n",
              "    <div>\n",
              "<style scoped>\n",
              "    .dataframe tbody tr th:only-of-type {\n",
              "        vertical-align: middle;\n",
              "    }\n",
              "\n",
              "    .dataframe tbody tr th {\n",
              "        vertical-align: top;\n",
              "    }\n",
              "\n",
              "    .dataframe thead th {\n",
              "        text-align: right;\n",
              "    }\n",
              "</style>\n",
              "<table border=\"1\" class=\"dataframe\">\n",
              "  <thead>\n",
              "    <tr style=\"text-align: right;\">\n",
              "      <th></th>\n",
              "      <th>totmou</th>\n",
              "      <th>totrev</th>\n",
              "      <th>creditcd</th>\n",
              "      <th>eqpdays</th>\n",
              "      <th>Customer_ID</th>\n",
              "    </tr>\n",
              "  </thead>\n",
              "  <tbody>\n",
              "    <tr>\n",
              "      <th>0</th>\n",
              "      <td>7269.0</td>\n",
              "      <td>906.58</td>\n",
              "      <td>Y</td>\n",
              "      <td>371</td>\n",
              "      <td>1082423</td>\n",
              "    </tr>\n",
              "    <tr>\n",
              "      <th>1</th>\n",
              "      <td>13552.0</td>\n",
              "      <td>1172.25</td>\n",
              "      <td>N</td>\n",
              "      <td>83</td>\n",
              "      <td>1069232</td>\n",
              "    </tr>\n",
              "    <tr>\n",
              "      <th>2</th>\n",
              "      <td>4152.0</td>\n",
              "      <td>577.39</td>\n",
              "      <td>Y</td>\n",
              "      <td>675</td>\n",
              "      <td>1031705</td>\n",
              "    </tr>\n",
              "    <tr>\n",
              "      <th>3</th>\n",
              "      <td>1863.0</td>\n",
              "      <td>294.26</td>\n",
              "      <td>Y</td>\n",
              "      <td>218</td>\n",
              "      <td>1089806</td>\n",
              "    </tr>\n",
              "    <tr>\n",
              "      <th>4</th>\n",
              "      <td>4155.0</td>\n",
              "      <td>433.16</td>\n",
              "      <td>N</td>\n",
              "      <td>222</td>\n",
              "      <td>1076695</td>\n",
              "    </tr>\n",
              "    <tr>\n",
              "      <th>...</th>\n",
              "      <td>...</td>\n",
              "      <td>...</td>\n",
              "      <td>...</td>\n",
              "      <td>...</td>\n",
              "      <td>...</td>\n",
              "    </tr>\n",
              "    <tr>\n",
              "      <th>9995</th>\n",
              "      <td>2570.0</td>\n",
              "      <td>484.31</td>\n",
              "      <td>Y</td>\n",
              "      <td>611</td>\n",
              "      <td>1027614</td>\n",
              "    </tr>\n",
              "    <tr>\n",
              "      <th>9996</th>\n",
              "      <td>2105.0</td>\n",
              "      <td>583.36</td>\n",
              "      <td>Y</td>\n",
              "      <td>1243</td>\n",
              "      <td>1098422</td>\n",
              "    </tr>\n",
              "    <tr>\n",
              "      <th>9997</th>\n",
              "      <td>3690.0</td>\n",
              "      <td>294.29</td>\n",
              "      <td>Y</td>\n",
              "      <td>212</td>\n",
              "      <td>1096497</td>\n",
              "    </tr>\n",
              "    <tr>\n",
              "      <th>9998</th>\n",
              "      <td>3333.0</td>\n",
              "      <td>233.08</td>\n",
              "      <td>Y</td>\n",
              "      <td>290</td>\n",
              "      <td>1087248</td>\n",
              "    </tr>\n",
              "    <tr>\n",
              "      <th>9999</th>\n",
              "      <td>5025.0</td>\n",
              "      <td>1436.49</td>\n",
              "      <td>Y</td>\n",
              "      <td>1029</td>\n",
              "      <td>1099003</td>\n",
              "    </tr>\n",
              "  </tbody>\n",
              "</table>\n",
              "<p>9848 rows × 5 columns</p>\n",
              "</div>\n",
              "    <div class=\"colab-df-buttons\">\n",
              "\n",
              "  <div class=\"colab-df-container\">\n",
              "    <button class=\"colab-df-convert\" onclick=\"convertToInteractive('df-38c08b5f-3a67-4734-9923-791a22008ed9')\"\n",
              "            title=\"Convert this dataframe to an interactive table.\"\n",
              "            style=\"display:none;\">\n",
              "\n",
              "  <svg xmlns=\"http://www.w3.org/2000/svg\" height=\"24px\" viewBox=\"0 -960 960 960\">\n",
              "    <path d=\"M120-120v-720h720v720H120Zm60-500h600v-160H180v160Zm220 220h160v-160H400v160Zm0 220h160v-160H400v160ZM180-400h160v-160H180v160Zm440 0h160v-160H620v160ZM180-180h160v-160H180v160Zm440 0h160v-160H620v160Z\"/>\n",
              "  </svg>\n",
              "    </button>\n",
              "\n",
              "  <style>\n",
              "    .colab-df-container {\n",
              "      display:flex;\n",
              "      gap: 12px;\n",
              "    }\n",
              "\n",
              "    .colab-df-convert {\n",
              "      background-color: #E8F0FE;\n",
              "      border: none;\n",
              "      border-radius: 50%;\n",
              "      cursor: pointer;\n",
              "      display: none;\n",
              "      fill: #1967D2;\n",
              "      height: 32px;\n",
              "      padding: 0 0 0 0;\n",
              "      width: 32px;\n",
              "    }\n",
              "\n",
              "    .colab-df-convert:hover {\n",
              "      background-color: #E2EBFA;\n",
              "      box-shadow: 0px 1px 2px rgba(60, 64, 67, 0.3), 0px 1px 3px 1px rgba(60, 64, 67, 0.15);\n",
              "      fill: #174EA6;\n",
              "    }\n",
              "\n",
              "    .colab-df-buttons div {\n",
              "      margin-bottom: 4px;\n",
              "    }\n",
              "\n",
              "    [theme=dark] .colab-df-convert {\n",
              "      background-color: #3B4455;\n",
              "      fill: #D2E3FC;\n",
              "    }\n",
              "\n",
              "    [theme=dark] .colab-df-convert:hover {\n",
              "      background-color: #434B5C;\n",
              "      box-shadow: 0px 1px 3px 1px rgba(0, 0, 0, 0.15);\n",
              "      filter: drop-shadow(0px 1px 2px rgba(0, 0, 0, 0.3));\n",
              "      fill: #FFFFFF;\n",
              "    }\n",
              "  </style>\n",
              "\n",
              "    <script>\n",
              "      const buttonEl =\n",
              "        document.querySelector('#df-38c08b5f-3a67-4734-9923-791a22008ed9 button.colab-df-convert');\n",
              "      buttonEl.style.display =\n",
              "        google.colab.kernel.accessAllowed ? 'block' : 'none';\n",
              "\n",
              "      async function convertToInteractive(key) {\n",
              "        const element = document.querySelector('#df-38c08b5f-3a67-4734-9923-791a22008ed9');\n",
              "        const dataTable =\n",
              "          await google.colab.kernel.invokeFunction('convertToInteractive',\n",
              "                                                    [key], {});\n",
              "        if (!dataTable) return;\n",
              "\n",
              "        const docLinkHtml = 'Like what you see? Visit the ' +\n",
              "          '<a target=\"_blank\" href=https://colab.research.google.com/notebooks/data_table.ipynb>data table notebook</a>'\n",
              "          + ' to learn more about interactive tables.';\n",
              "        element.innerHTML = '';\n",
              "        dataTable['output_type'] = 'display_data';\n",
              "        await google.colab.output.renderOutput(dataTable, element);\n",
              "        const docLink = document.createElement('div');\n",
              "        docLink.innerHTML = docLinkHtml;\n",
              "        element.appendChild(docLink);\n",
              "      }\n",
              "    </script>\n",
              "  </div>\n",
              "\n",
              "\n",
              "<div id=\"df-ca6fbf22-9062-48c8-9189-85dcb38b3ed5\">\n",
              "  <button class=\"colab-df-quickchart\" onclick=\"quickchart('df-ca6fbf22-9062-48c8-9189-85dcb38b3ed5')\"\n",
              "            title=\"Suggest charts\"\n",
              "            style=\"display:none;\">\n",
              "\n",
              "<svg xmlns=\"http://www.w3.org/2000/svg\" height=\"24px\"viewBox=\"0 0 24 24\"\n",
              "     width=\"24px\">\n",
              "    <g>\n",
              "        <path d=\"M19 3H5c-1.1 0-2 .9-2 2v14c0 1.1.9 2 2 2h14c1.1 0 2-.9 2-2V5c0-1.1-.9-2-2-2zM9 17H7v-7h2v7zm4 0h-2V7h2v10zm4 0h-2v-4h2v4z\"/>\n",
              "    </g>\n",
              "</svg>\n",
              "  </button>\n",
              "\n",
              "<style>\n",
              "  .colab-df-quickchart {\n",
              "      --bg-color: #E8F0FE;\n",
              "      --fill-color: #1967D2;\n",
              "      --hover-bg-color: #E2EBFA;\n",
              "      --hover-fill-color: #174EA6;\n",
              "      --disabled-fill-color: #AAA;\n",
              "      --disabled-bg-color: #DDD;\n",
              "  }\n",
              "\n",
              "  [theme=dark] .colab-df-quickchart {\n",
              "      --bg-color: #3B4455;\n",
              "      --fill-color: #D2E3FC;\n",
              "      --hover-bg-color: #434B5C;\n",
              "      --hover-fill-color: #FFFFFF;\n",
              "      --disabled-bg-color: #3B4455;\n",
              "      --disabled-fill-color: #666;\n",
              "  }\n",
              "\n",
              "  .colab-df-quickchart {\n",
              "    background-color: var(--bg-color);\n",
              "    border: none;\n",
              "    border-radius: 50%;\n",
              "    cursor: pointer;\n",
              "    display: none;\n",
              "    fill: var(--fill-color);\n",
              "    height: 32px;\n",
              "    padding: 0;\n",
              "    width: 32px;\n",
              "  }\n",
              "\n",
              "  .colab-df-quickchart:hover {\n",
              "    background-color: var(--hover-bg-color);\n",
              "    box-shadow: 0 1px 2px rgba(60, 64, 67, 0.3), 0 1px 3px 1px rgba(60, 64, 67, 0.15);\n",
              "    fill: var(--button-hover-fill-color);\n",
              "  }\n",
              "\n",
              "  .colab-df-quickchart-complete:disabled,\n",
              "  .colab-df-quickchart-complete:disabled:hover {\n",
              "    background-color: var(--disabled-bg-color);\n",
              "    fill: var(--disabled-fill-color);\n",
              "    box-shadow: none;\n",
              "  }\n",
              "\n",
              "  .colab-df-spinner {\n",
              "    border: 2px solid var(--fill-color);\n",
              "    border-color: transparent;\n",
              "    border-bottom-color: var(--fill-color);\n",
              "    animation:\n",
              "      spin 1s steps(1) infinite;\n",
              "  }\n",
              "\n",
              "  @keyframes spin {\n",
              "    0% {\n",
              "      border-color: transparent;\n",
              "      border-bottom-color: var(--fill-color);\n",
              "      border-left-color: var(--fill-color);\n",
              "    }\n",
              "    20% {\n",
              "      border-color: transparent;\n",
              "      border-left-color: var(--fill-color);\n",
              "      border-top-color: var(--fill-color);\n",
              "    }\n",
              "    30% {\n",
              "      border-color: transparent;\n",
              "      border-left-color: var(--fill-color);\n",
              "      border-top-color: var(--fill-color);\n",
              "      border-right-color: var(--fill-color);\n",
              "    }\n",
              "    40% {\n",
              "      border-color: transparent;\n",
              "      border-right-color: var(--fill-color);\n",
              "      border-top-color: var(--fill-color);\n",
              "    }\n",
              "    60% {\n",
              "      border-color: transparent;\n",
              "      border-right-color: var(--fill-color);\n",
              "    }\n",
              "    80% {\n",
              "      border-color: transparent;\n",
              "      border-right-color: var(--fill-color);\n",
              "      border-bottom-color: var(--fill-color);\n",
              "    }\n",
              "    90% {\n",
              "      border-color: transparent;\n",
              "      border-bottom-color: var(--fill-color);\n",
              "    }\n",
              "  }\n",
              "</style>\n",
              "\n",
              "  <script>\n",
              "    async function quickchart(key) {\n",
              "      const quickchartButtonEl =\n",
              "        document.querySelector('#' + key + ' button');\n",
              "      quickchartButtonEl.disabled = true;  // To prevent multiple clicks.\n",
              "      quickchartButtonEl.classList.add('colab-df-spinner');\n",
              "      try {\n",
              "        const charts = await google.colab.kernel.invokeFunction(\n",
              "            'suggestCharts', [key], {});\n",
              "      } catch (error) {\n",
              "        console.error('Error during call to suggestCharts:', error);\n",
              "      }\n",
              "      quickchartButtonEl.classList.remove('colab-df-spinner');\n",
              "      quickchartButtonEl.classList.add('colab-df-quickchart-complete');\n",
              "    }\n",
              "    (() => {\n",
              "      let quickchartButtonEl =\n",
              "        document.querySelector('#df-ca6fbf22-9062-48c8-9189-85dcb38b3ed5 button');\n",
              "      quickchartButtonEl.style.display =\n",
              "        google.colab.kernel.accessAllowed ? 'block' : 'none';\n",
              "    })();\n",
              "  </script>\n",
              "</div>\n",
              "\n",
              "  <div id=\"id_58855e28-c021-4a80-9ee7-f4ace7335074\">\n",
              "    <style>\n",
              "      .colab-df-generate {\n",
              "        background-color: #E8F0FE;\n",
              "        border: none;\n",
              "        border-radius: 50%;\n",
              "        cursor: pointer;\n",
              "        display: none;\n",
              "        fill: #1967D2;\n",
              "        height: 32px;\n",
              "        padding: 0 0 0 0;\n",
              "        width: 32px;\n",
              "      }\n",
              "\n",
              "      .colab-df-generate:hover {\n",
              "        background-color: #E2EBFA;\n",
              "        box-shadow: 0px 1px 2px rgba(60, 64, 67, 0.3), 0px 1px 3px 1px rgba(60, 64, 67, 0.15);\n",
              "        fill: #174EA6;\n",
              "      }\n",
              "\n",
              "      [theme=dark] .colab-df-generate {\n",
              "        background-color: #3B4455;\n",
              "        fill: #D2E3FC;\n",
              "      }\n",
              "\n",
              "      [theme=dark] .colab-df-generate:hover {\n",
              "        background-color: #434B5C;\n",
              "        box-shadow: 0px 1px 3px 1px rgba(0, 0, 0, 0.15);\n",
              "        filter: drop-shadow(0px 1px 2px rgba(0, 0, 0, 0.3));\n",
              "        fill: #FFFFFF;\n",
              "      }\n",
              "    </style>\n",
              "    <button class=\"colab-df-generate\" onclick=\"generateWithVariable('df')\"\n",
              "            title=\"Generate code using this dataframe.\"\n",
              "            style=\"display:none;\">\n",
              "\n",
              "  <svg xmlns=\"http://www.w3.org/2000/svg\" height=\"24px\"viewBox=\"0 0 24 24\"\n",
              "       width=\"24px\">\n",
              "    <path d=\"M7,19H8.4L18.45,9,17,7.55,7,17.6ZM5,21V16.75L18.45,3.32a2,2,0,0,1,2.83,0l1.4,1.43a1.91,1.91,0,0,1,.58,1.4,1.91,1.91,0,0,1-.58,1.4L9.25,21ZM18.45,9,17,7.55Zm-12,3A5.31,5.31,0,0,0,4.9,8.1,5.31,5.31,0,0,0,1,6.5,5.31,5.31,0,0,0,4.9,4.9,5.31,5.31,0,0,0,6.5,1,5.31,5.31,0,0,0,8.1,4.9,5.31,5.31,0,0,0,12,6.5,5.46,5.46,0,0,0,6.5,12Z\"/>\n",
              "  </svg>\n",
              "    </button>\n",
              "    <script>\n",
              "      (() => {\n",
              "      const buttonEl =\n",
              "        document.querySelector('#id_58855e28-c021-4a80-9ee7-f4ace7335074 button.colab-df-generate');\n",
              "      buttonEl.style.display =\n",
              "        google.colab.kernel.accessAllowed ? 'block' : 'none';\n",
              "\n",
              "      buttonEl.onclick = () => {\n",
              "        google.colab.notebook.generateWithVariable('df');\n",
              "      }\n",
              "      })();\n",
              "    </script>\n",
              "  </div>\n",
              "\n",
              "    </div>\n",
              "  </div>\n"
            ],
            "text/plain": [
              "       totmou   totrev creditcd  eqpdays  Customer_ID\n",
              "0      7269.0   906.58        Y      371      1082423\n",
              "1     13552.0  1172.25        N       83      1069232\n",
              "2      4152.0   577.39        Y      675      1031705\n",
              "3      1863.0   294.26        Y      218      1089806\n",
              "4      4155.0   433.16        N      222      1076695\n",
              "...       ...      ...      ...      ...          ...\n",
              "9995   2570.0   484.31        Y      611      1027614\n",
              "9996   2105.0   583.36        Y     1243      1098422\n",
              "9997   3690.0   294.29        Y      212      1096497\n",
              "9998   3333.0   233.08        Y      290      1087248\n",
              "9999   5025.0  1436.49        Y     1029      1099003\n",
              "\n",
              "[9848 rows x 5 columns]"
            ]
          },
          "execution_count": 30,
          "metadata": {},
          "output_type": "execute_result"
        }
      ],
      "source": [
        "df=df.dropna()\n",
        "df"
      ]
    },
    {
      "cell_type": "markdown",
      "metadata": {
        "id": "zmajsKiOQmxy"
      },
      "source": [
        "---\n",
        "# **Análisis comparativo**\n",
        "---\n",
        "\n",
        "Se quiere identificar si existe una relación entre el total de minutos usados por el cliente con la compañía y el ingreso total de los clientes, es decir, ¿Será posible afirmar que cuando una persona tiene un mayor ingreso, entonces es mayor la utilización de minutos o todo lo contrario?\n",
        "\n",
        "\n",
        "Para ello se puede realizar el análisis mediante el cálculo del coeficiente de Pearson o de manera más gráfica mediante un diagrama de dispersión."
      ]
    },
    {
      "cell_type": "markdown",
      "metadata": {
        "id": "PX-HyEUKSOYs"
      },
      "source": [
        "## **Coeficiente de Pearson**\n",
        "\n",
        "Este indicador permite calcular un número entre -1 y 1, el cual entre más cercano a -1 o a 1 nos permitirá encontrar la relación inversa o directamente proporcional entre las dos variables."
      ]
    },
    {
      "cell_type": "code",
      "execution_count": 33,
      "metadata": {
        "colab": {
          "base_uri": "https://localhost:8080/"
        },
        "id": "DYXCOAnTRyZS",
        "outputId": "cb0588f7-aa47-491a-d080-cd172b905e76",
        "vscode": {
          "languageId": "r"
        }
      },
      "outputs": [
        {
          "name": "stdout",
          "output_type": "stream",
          "text": [
            "Coeficiente de correlación de Pearson: 0.8352787141984754\n",
            "Valor p: 0.0\n"
          ]
        }
      ],
      "source": [
        "correlation, p_value = pearsonr(df['totrev'], df['totmou'])\n",
        "\n",
        "print(\"Coeficiente de correlación de Pearson:\", correlation)\n",
        "print(\"Valor p:\", p_value)"
      ]
    },
    {
      "cell_type": "markdown",
      "metadata": {
        "id": "EWHFAFk2tNew"
      },
      "source": [
        "## **Diagrama de dispersión**\n",
        "\n",
        "Este diagrama despliega una gráfica de Ingresos totales Vs Minutos totales de uso del teléfono móvil."
      ]
    },
    {
      "cell_type": "code",
      "execution_count": 31,
      "metadata": {
        "colab": {
          "base_uri": "https://localhost:8080/"
        },
        "id": "nFZko1yza4P6",
        "outputId": "bbc9eafb-5dd0-426f-fb10-867f371f349a",
        "vscode": {
          "languageId": "r"
        }
      },
      "outputs": [
        {
          "name": "stderr",
          "output_type": "stream",
          "text": [
            "<ipython-input-31-a5459f62f35a>:1: SettingWithCopyWarning: \n",
            "A value is trying to be set on a copy of a slice from a DataFrame.\n",
            "Try using .loc[row_indexer,col_indexer] = value instead\n",
            "\n",
            "See the caveats in the documentation: https://pandas.pydata.org/pandas-docs/stable/user_guide/indexing.html#returning-a-view-versus-a-copy\n",
            "  df['indicadorTC']=df['creditcd']\n"
          ]
        }
      ],
      "source": [
        "df['indicadorTC']=df['creditcd']"
      ]
    },
    {
      "cell_type": "code",
      "execution_count": 34,
      "metadata": {
        "colab": {
          "base_uri": "https://localhost:8080/",
          "height": 585
        },
        "id": "X_-JeXvwWOf2",
        "outputId": "e3f49abb-8895-4b20-afcf-699ac20e435e",
        "vscode": {
          "languageId": "r"
        }
      },
      "outputs": [
        {
          "data": {
            "image/png": "[encoded data removed]",
            "text/plain": [
              "<Figure size 800x600 with 1 Axes>"
            ]
          },
          "metadata": {},
          "output_type": "display_data"
        }
      ],
      "source": [
        "df_con_credito = df[df['creditcd'] == 'Y']\n",
        "df_sin_credito = df[df['creditcd'] == 'N']\n",
        "\n",
        "# Graficar el diagrama de dispersión con leyenda\n",
        "plt.figure(figsize=(8, 6))\n",
        "sns.scatterplot(x='totrev', y='totmou', data=df_con_credito, color='blue', alpha=0.5, label='Con Crédito')\n",
        "sns.scatterplot(x='totrev', y='totmou', data=df_sin_credito, color='red', alpha=0.5, label='Sin Crédito')\n",
        "\n",
        "# Agregar la línea de regresión lineal para cada grupo\n",
        "sns.regplot(x='totrev', y='totmou', data=df_con_credito, scatter=False, color='blue')\n",
        "sns.regplot(x='totrev', y='totmou', data=df_sin_credito, scatter=False, color='red')\n",
        "\n",
        "# Añadir título y etiquetas\n",
        "plt.title(f'Diagrama de Dispersión y Regresión Lineal\\nCoeficiente de Pearson: {correlation:.2f}')\n",
        "plt.xlabel('Ingresos Totales')\n",
        "plt.ylabel('Minutos Totales de Uso del Teléfono Móvil')\n",
        "plt.legend()\n",
        "\n",
        "# Mostrar la gráfica\n",
        "plt.grid(True)\n",
        "plt.show()"
      ]
    },
    {
      "cell_type": "markdown",
      "metadata": {
        "id": "TJHvrBTdTezT"
      },
      "source": [
        "---\n",
        "# **Conclusiones**\n",
        "---\n",
        "\n",
        "- En el diagrama de dispersión se puede evidenciar que en la medida en la que los ingresos totales del cliente se incrementan, así mismo se incrementa el consumo.\n",
        "- Del coeficente de Pearson tiene correlación positiva fuerte y significativa entre los ingresos totales de los clientes y los minutos totales de uso del teléfono móvil. Esto sugiere que existe una relación entre el comportamiento de gasto de los clientes y su uso del servicio de telefonía móvil, lo que podría ser útil para desarrollar estrategias comerciales y de marketing dirigidas a diferentes segmentos de clientes.\n",
        "- Después de incluir una leyenda que indica si los clientes tienen o no crédito en el diagrama de dispersión, se observa que no hay una diferencia clara en la distribución de los puntos entre los clientes con y sin crédito. Esto sugiere que el hecho de tener crédito no parece afectar significativamente la relación entre las dos variables analizadas (minutos usados por el cliente e ingresos del cliente). Por lo tanto, basándonos en esta visualización, no podemos concluir que el tener crédito tenga un impacto notable en estas dos variables."
      ]
    }
  ],
  "metadata": {
    "colab": {
      "collapsed_sections": [
        "sATbvEQCAywl"
      ],
      "provenance": [],
      "toc_visible": true
    },
    "kernelspec": {
      "display_name": "R",
      "language": "R",
      "name": "ir"
    },
    "language_info": {
      "name": "R"
    }
  },
  "nbformat": 4,
  "nbformat_minor": 0
}
